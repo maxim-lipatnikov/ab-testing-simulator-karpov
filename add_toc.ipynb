{
 "cells": [
  {
   "cell_type": "code",
   "execution_count": 8,
   "id": "7e760a66-5160-4ce5-b099-f011d38e74c8",
   "metadata": {},
   "outputs": [],
   "source": [
    "import nbformat\n",
    "from nbformat.v4 import new_markdown_cell\n",
    "\n",
    "def create_table_of_contents(notebook):\n",
    "    toc = [\"## Table of Contents\\n\"]\n",
    "    for i, cell in enumerate(notebook['cells']):\n",
    "        if cell['cell_type'] == 'markdown':\n",
    "            lines = cell['source'].split('\\n')\n",
    "            for line in lines:\n",
    "                if line.startswith('## '):\n",
    "                    header_text = line[3:]\n",
    "                    anchor = f'header-{i}'\n",
    "                    toc.append(f\"* **[{header_text}](#{anchor})**\")\n",
    "                    cell['source'] = cell['source'].replace(f'## {header_text}', f'## <a id=\"{anchor}\"></a>{header_text}')\n",
    "                elif line.startswith('### '):\n",
    "                    header_text = line[4:]\n",
    "                    anchor = f'header-{i}'\n",
    "                    toc.append(f\"  * [{header_text}](#{anchor})\")\n",
    "                    cell['source'] = cell['source'].replace(f'### {header_text}', f'### <a id=\"{anchor}\"></a>{header_text}')\n",
    "    return toc\n",
    "\n",
    "def insert_table_of_contents(notebook, toc):\n",
    "    index = 0\n",
    "    for i, cell in enumerate(notebook['cells']):\n",
    "        if cell['cell_type'] == 'markdown' and cell['source'].startswith('## Table of Contents'):\n",
    "            index = i\n",
    "            break\n",
    "    else:\n",
    "        index = 1  # If no Table of Contents found, insert at the beginning\n",
    "\n",
    "    toc_cell = new_markdown_cell(\"\\n\".join(toc))\n",
    "    notebook['cells'].insert(index, toc_cell)\n",
    "\n",
    "def save_notebook(notebook, filename):\n",
    "    with open(filename, 'w') as f:\n",
    "        nbformat.write(notebook, f)\n",
    "\n",
    "# Замените 'your_notebook.ipynb' на имя вашего файла\n",
    "input_notebook = 'ab_testing_full_outline.ipynb'\n",
    "\n",
    "with open(input_notebook, 'r') as f:\n",
    "    notebook = nbformat.read(f, as_version=4)\n",
    "\n",
    "toc = create_table_of_contents(notebook)\n",
    "insert_table_of_contents(notebook, toc)\n",
    "\n",
    "# Замените 'output_notebook.ipynb' на желаемое имя выходного файла\n",
    "output_notebook = 'toc.ipynb'\n",
    "save_notebook(notebook, output_notebook)\n"
   ]
  },
  {
   "cell_type": "code",
   "execution_count": null,
   "id": "5d65cbe1-5fdb-4c42-93c5-57ff036724d5",
   "metadata": {},
   "outputs": [],
   "source": []
  }
 ],
 "metadata": {
  "kernelspec": {
   "display_name": "Python 3 (ipykernel)",
   "language": "python",
   "name": "python3"
  },
  "language_info": {
   "codemirror_mode": {
    "name": "ipython",
    "version": 3
   },
   "file_extension": ".py",
   "mimetype": "text/x-python",
   "name": "python",
   "nbconvert_exporter": "python",
   "pygments_lexer": "ipython3",
   "version": "3.10.9"
  }
 },
 "nbformat": 4,
 "nbformat_minor": 5
}
